{
  "nbformat": 4,
  "nbformat_minor": 0,
  "metadata": {
    "colab": {
      "provenance": [],
      "authorship_tag": "ABX9TyOWL8+B0ZnSPl7Rsb2pd9zd",
      "include_colab_link": true
    },
    "kernelspec": {
      "name": "python3",
      "display_name": "Python 3"
    },
    "language_info": {
      "name": "python"
    }
  },
  "cells": [
    {
      "cell_type": "markdown",
      "metadata": {
        "id": "view-in-github",
        "colab_type": "text"
      },
      "source": [
        "<a href=\"https://colab.research.google.com/github/AhmUmarCMS/AhmuCMS/blob/main/GeneticAlgorithm_8Queens.ipynb\" target=\"_parent\"><img src=\"https://colab.research.google.com/assets/colab-badge.svg\" alt=\"Open In Colab\"/></a>"
      ]
    },
    {
      "cell_type": "code",
      "execution_count": 2,
      "metadata": {
        "colab": {
          "base_uri": "https://localhost:8080/"
        },
        "id": "D2R22sBbVzFK",
        "outputId": "11be8a12-e268-4c10-cd75-d4c3cb8c2439"
      },
      "outputs": [
        {
          "output_type": "stream",
          "name": "stdout",
          "text": [
            "[[1. 0. 0. 0. 0. 0. 0. 0.]\n",
            " [0. 1. 0. 0. 0. 0. 1. 0.]\n",
            " [0. 0. 0. 1. 0. 1. 1. 0.]\n",
            " [0. 0. 1. 0. 1. 0. 0. 1.]\n",
            " [0. 1. 0. 0. 0. 0. 1. 0.]\n",
            " [1. 0. 0. 0. 1. 1. 0. 0.]\n",
            " [0. 0. 1. 0. 0. 0. 0. 1.]\n",
            " [0. 0. 0. 1. 0. 0. 0. 0.]]\n"
          ]
        }
      ],
      "source": [
        "import random\n",
        "import numpy as np\n",
        "\n",
        "N = 8\n",
        "\n",
        "def initialize_population(pop_size=10):\n",
        "    population = []\n",
        "    for _ in range(pop_size):\n",
        "        board = np.zeros((N, N))\n",
        "        for col in range(N):\n",
        "            row = random.randint(0, N-1)\n",
        "            board[row, col] = 1\n",
        "        population.append(board)\n",
        "    return population\n",
        "\n",
        "def fitness(board):\n",
        "    clashes = 0\n",
        "    for i in range(N):\n",
        "        for j in range(N):\n",
        "            if board[i][j] == 1:\n",
        "                for k in range(N):\n",
        "                    if k != j and board[i][k] == 1:\n",
        "                        clashes += 1\n",
        "                    if k != i and board[k][j] == 1:\n",
        "                        clashes += 1\n",
        "                for k in range(1, N):\n",
        "                    if i+k < N and j+k < N and board[i+k][j+k] == 1:\n",
        "                        clashes += 1\n",
        "                    if i-k >= 0 and j+k < N and board[i-k][j+k] == 1:\n",
        "                        clashes += 1\n",
        "                    if i+k < N and j-k >= 0 and board[i+k][j-k] == 1:\n",
        "                        clashes += 1\n",
        "                    if i-k >= 0 and j-k >= 0 and board[i-k][j-k] == 1:\n",
        "                        clashes += 1\n",
        "    return clashes\n",
        "\n",
        "def selection(population):\n",
        "    sorted_population = sorted(population, key=fitness, reverse=True)\n",
        "    return sorted_population[:len(population) // 2]\n",
        "\n",
        "def crossover(parent_a, parent_b):\n",
        "    crossover_point = random.randint(1, N-1)\n",
        "    child_a = np.vstack((parent_a[:crossover_point], parent_b[crossover_point:]))\n",
        "    child_b = np.vstack((parent_b[:crossover_point], parent_a[crossover_point:]))\n",
        "    return child_a, child_b\n",
        "\n",
        "def mutate(board, mutation_rate=0.1):\n",
        "    if random.random() < mutation_rate:\n",
        "        col = random.randint(0, N-1)\n",
        "        row = random.randint(0, N-1)\n",
        "        board[:, col] = 0\n",
        "        board[row, col] = 1\n",
        "    return board\n",
        "\n",
        "def genetic_algorithm(iterations=1000, pop_size=10):\n",
        "    population = initialize_population(pop_size)\n",
        "    for _ in range(iterations):\n",
        "        selected_population = selection(population)\n",
        "        new_population = []\n",
        "        while len(new_population) < pop_size:\n",
        "            parent_a, parent_b = random.sample(selected_population, 2)\n",
        "            child_a, child_b = crossover(parent_a, parent_b)\n",
        "            new_population.append(mutate(child_a))\n",
        "            new_population.append(mutate(child_b))\n",
        "        population = new_population\n",
        "        best_board = max(population, key=fitness)\n",
        "        if fitness(best_board) == 0:\n",
        "            break\n",
        "    return best_board\n",
        "\n",
        "final_board = genetic_algorithm()\n",
        "print(final_board)\n"
      ]
    }
  ]
}