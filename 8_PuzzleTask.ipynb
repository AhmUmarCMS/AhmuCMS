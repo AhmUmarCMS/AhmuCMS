{
  "nbformat": 4,
  "nbformat_minor": 0,
  "metadata": {
    "colab": {
      "provenance": [],
      "authorship_tag": "ABX9TyNEeLV/djR/vdtIE9xbSD/U",
      "include_colab_link": true
    },
    "kernelspec": {
      "name": "python3",
      "display_name": "Python 3"
    },
    "language_info": {
      "name": "python"
    }
  },
  "cells": [
    {
      "cell_type": "markdown",
      "metadata": {
        "id": "view-in-github",
        "colab_type": "text"
      },
      "source": [
        "<a href=\"https://colab.research.google.com/github/AhmUmarCMS/AhmuCMS/blob/main/8_PuzzleTask.ipynb\" target=\"_parent\"><img src=\"https://colab.research.google.com/assets/colab-badge.svg\" alt=\"Open In Colab\"/></a>"
      ]
    },
    {
      "cell_type": "markdown",
      "source": [
        "# **Generating 8-Puzzle from User Input**\n"
      ],
      "metadata": {
        "id": "DdlbMfiy-Ae5"
      }
    },
    {
      "cell_type": "code",
      "source": [
        "def generate_8_puzzle():\n",
        "\n",
        "    print(\"Please enter numbers of the 8-Puzzle one-by-one\")\n",
        "    puzzle = []\n",
        "    puzzle_dimension = [0,1,2]\n",
        "\n",
        "    for i in puzzle_dimension:\n",
        "        row = []\n",
        "        for j in puzzle_dimension:\n",
        "            while True:\n",
        "\n",
        "                    num = int(input(f\"Enter number for position ({i},{j}): \"))\n",
        "                    if num < 0 or num > 8:\n",
        "                        print(\"Number must be between 0 and 8.\")\n",
        "                        continue\n",
        "                    if num in row:\n",
        "                        print(\"Number already exists in this row.\")\n",
        "                        continue\n",
        "                    row.append(num)\n",
        "                    break\n",
        "\n",
        "        puzzle.append(row)\n",
        "    return puzzle\n",
        "\n",
        "def print_puzzle(puzzle):\n",
        "    for row in puzzle:\n",
        "        print(row)\n",
        "\n",
        "user_puzzle = generate_8_puzzle()\n",
        "print_puzzle(user_puzzle)"
      ],
      "metadata": {
        "colab": {
          "base_uri": "https://localhost:8080/"
        },
        "id": "a0yUiMCM9v5j",
        "outputId": "1417675f-6156-42b0-d69b-65552a82c83c"
      },
      "execution_count": 18,
      "outputs": [
        {
          "output_type": "stream",
          "name": "stdout",
          "text": [
            "Please enter numbers of the 8-Puzzle one-by-one\n",
            "Enter number for position (0,0): 0\n",
            "Enter number for position (0,1): 2\n",
            "Enter number for position (0,2): 5\n",
            "Enter number for position (1,0): 1\n",
            "Enter number for position (1,1): 7\n",
            "Enter number for position (1,2): 8\n",
            "Enter number for position (2,0): 4\n",
            "Enter number for position (2,1): 6\n",
            "Enter number for position (2,2): 3\n",
            "[0, 2, 5]\n",
            "[1, 7, 8]\n",
            "[4, 6, 3]\n"
          ]
        }
      ]
    },
    {
      "cell_type": "markdown",
      "source": [
        "# **Generating 8-Puzzle using Numpy:**"
      ],
      "metadata": {
        "id": "4mfG0l8R-PWx"
      }
    },
    {
      "cell_type": "code",
      "source": [
        "import numpy as np\n",
        "import random\n",
        "\n",
        "def generate_random_puzzle():\n",
        "    numbers = list(range(9))\n",
        "    random.shuffle(numbers)\n",
        "    puzzle = np.array(numbers).reshape(3, 3)\n",
        "    return puzzle\n",
        "\n",
        "def print_puzzle(puzzle):\n",
        "    for row in puzzle:\n",
        "        print(row)\n",
        "\n",
        "\n",
        "random_puzzle = generate_random_puzzle()\n",
        "\n",
        "\n",
        "print(\"Randomly generated 8-puzzle:\")\n",
        "print_puzzle(random_puzzle)"
      ],
      "metadata": {
        "colab": {
          "base_uri": "https://localhost:8080/"
        },
        "id": "5c2Bzw8J-T2R",
        "outputId": "5454ccdd-daea-4ba2-b59a-2b6adc03cd73"
      },
      "execution_count": 20,
      "outputs": [
        {
          "output_type": "stream",
          "name": "stdout",
          "text": [
            "Randomly generated 8-puzzle:\n",
            "[2 4 1]\n",
            "[5 6 3]\n",
            "[8 0 7]\n"
          ]
        }
      ]
    }
  ]
}