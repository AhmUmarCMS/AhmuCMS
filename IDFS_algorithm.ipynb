{
  "nbformat": 4,
  "nbformat_minor": 0,
  "metadata": {
    "colab": {
      "provenance": [],
      "authorship_tag": "ABX9TyNgSsJeWMResITefm8F6Ke6",
      "include_colab_link": true
    },
    "kernelspec": {
      "name": "python3",
      "display_name": "Python 3"
    },
    "language_info": {
      "name": "python"
    }
  },
  "cells": [
    {
      "cell_type": "markdown",
      "metadata": {
        "id": "view-in-github",
        "colab_type": "text"
      },
      "source": [
        "<a href=\"https://colab.research.google.com/github/AhmUmarCMS/AhmuCMS/blob/main/IDFS_algorithm.ipynb\" target=\"_parent\"><img src=\"https://colab.research.google.com/assets/colab-badge.svg\" alt=\"Open In Colab\"/></a>"
      ]
    },
    {
      "cell_type": "code",
      "execution_count": 1,
      "metadata": {
        "colab": {
          "base_uri": "https://localhost:8080/"
        },
        "id": "DonsA1seImLJ",
        "outputId": "99acb035-9b2e-447b-a1e4-662292214ca5"
      },
      "outputs": [
        {
          "output_type": "stream",
          "name": "stdout",
          "text": [
            "Path found: ['Arad', 'Sibiu', 'Fagaras', 'Bucharest']\n"
          ]
        }
      ],
      "source": [
        "def iddfs(graph, start, goal):\n",
        "    depth_limit = 0\n",
        "    while True:\n",
        "        visited = []\n",
        "        opened = [start]\n",
        "        result = dfs(graph, start, goal, depth_limit, visited, opened)\n",
        "        if result is not None:\n",
        "            return result  # Goal found\n",
        "        depth_limit += 1  # Increase depth limit for next iteration\n",
        "\n",
        "def dfs(graph, node, goal, depth_limit, visited, opened):\n",
        "    if node == goal:\n",
        "        return [node]\n",
        "\n",
        "    if depth_limit == 0:\n",
        "        return None\n",
        "\n",
        "    if node in visited:\n",
        "        return None\n",
        "\n",
        "    visited.append(node)\n",
        "\n",
        "    for neighbor in graph[node]:\n",
        "        result = dfs(graph, neighbor, goal, depth_limit - 1, visited, opened)\n",
        "        if result is not None:\n",
        "            return [node] + result\n",
        "\n",
        "    return None\n",
        "\n",
        "\n",
        "graph = {\n",
        "    \"Arad\": [\"Zerind\", \"Timisoara\", \"Sibiu\"],\n",
        "    \"Zerind\": [\"Oradea\", \"Arad\"],\n",
        "    \"Oradea\": [\"Zerind\", \"Sibiu\"],\n",
        "    \"Timisoara\": [\"Arad\", \"Lugoj\"],\n",
        "    \"Lugoj\": [\"Timisoara\", \"Mehadia\"],\n",
        "    \"Mehadia\": [\"Lugoj\", \"Drobeta\"],\n",
        "    \"Drobeta\": [\"Mehadia\", \"Craiova\"],\n",
        "    \"Craiova\": [\"Drobeta\", \"Rimnicu Vilcea\", \"Pitesti\"],\n",
        "    \"Rimnicu Vilcea\": [\"Sibiu\", \"Pitesti\", \"Craiova\"],\n",
        "    \"Sibiu\": [\"Arad\", \"Oradea\", \"Rimnicu Vilcea\", \"Fagaras\"],\n",
        "    \"Fagaras\": [\"Sibiu\", \"Bucharest\"],\n",
        "    \"Pitesti\": [\"Rimnicu Vilcea\", \"Craiova\", \"Bucharest\"],\n",
        "    \"Bucharest\": [\"Fagaras\", \"Pitesti\", \"Giurgiu\", \"Urziceni\"],\n",
        "    \"Giurgiu\": [\"Bucharest\"],\n",
        "    \"Urziceni\": [\"Bucharest\", \"Hirsova\", \"Vaslui\"],\n",
        "    \"Hirsova\": [\"Urziceni\", \"Eforie\"],\n",
        "    \"Eforie\": [\"Hirsova\"],\n",
        "    \"Vaslui\": [\"Urziceni\", \"Iasi\"],\n",
        "    \"Iasi\": [\"Vaslui\", \"Neamt\"],\n",
        "    \"Neamt\": [\"Iasi\"]\n",
        "}\n",
        "\n",
        "start_node = 'Arad'\n",
        "goal_node = 'Bucharest'\n",
        "\n",
        "result = iddfs(graph, start_node, goal_node)\n",
        "if result is not None:\n",
        "    print(result)\n",
        "else:\n",
        "    print(\"path not available\")\n"
      ]
    }
  ]
}